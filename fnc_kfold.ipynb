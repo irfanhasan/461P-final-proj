{
 "cells": [
  {
   "cell_type": "code",
   "execution_count": 18,
   "metadata": {},
   "outputs": [],
   "source": [
    "import sys\n",
    "import numpy as np\n",
    "\n",
    "from sklearn.ensemble import GradientBoostingClassifier\n",
    "from feature_engineering import refuting_features, polarity_features, hand_features, gen_or_load_feats, gen_word2vec_feats\n",
    "from feature_engineering import word_overlap_features\n",
    "from feature_engineering import supporting_features, punctuation_features, question_features, cap_features\n",
    "from feature_engineering import latent_semantic_indexing\n",
    "from utils.dataset import DataSet\n",
    "from utils.generate_test_splits import kfold_split, get_stances_for_folds\n",
    "from utils.score import report_score, LABELS, score_submission\n",
    "from sklearn.cluster import KMeans\n",
    "from sklearn.tree import DecisionTreeClassifier\n",
    "from xgboost import XGBClassifier \n",
    "from sklearn.neural_network import MLPClassifier \n",
    " \n",
    "from utils.system import parse_params, check_version\n",
    "from sklearn.model_selection import GridSearchCV\n",
    "from sklearn.linear_model import RidgeClassifier\n",
    "\n",
    "import matplotlib.pyplot as plt\n",
    "import numpy as np"
   ]
  },
  {
   "cell_type": "code",
   "execution_count": 2,
   "metadata": {},
   "outputs": [],
   "source": [
    "def generate_features(stances,dataset,name):\n",
    "    h, b, y = [],[],[]\n",
    "\n",
    "    for stance in stances:\n",
    "        y.append(LABELS.index(stance['Stance']))\n",
    "        h.append(stance['Headline'])\n",
    "        b.append(dataset.articles[stance['Body ID']])\n",
    "\n",
    "    X_overlap = gen_or_load_feats(word_overlap_features, h, b, \"features/overlap.\"+name+\".npy\")\n",
    "    X_refuting = gen_or_load_feats(refuting_features, h, b, \"features/refuting.\"+name+\".npy\")\n",
    "    X_polarity = gen_or_load_feats(polarity_features, h, b, \"features/polarity.\"+name+\".npy\")\n",
    "    X_hand = gen_or_load_feats(hand_features, h, b, \"features/hand.\"+name+\".npy\")\n",
    "    \n",
    "    X_supporting = gen_or_load_feats(supporting_features, h, b, \"features/supporting.\"+name+\".npy\")\n",
    "    X_punctuation = gen_or_load_feats(punctuation_features, h, b, \"features/punctuation.\"+name+\".npy\")\n",
    "    X_question = gen_or_load_feats(question_features, h, b, \"features/question.\"+name+\".npy\")\n",
    "    X_cap = gen_or_load_feats(cap_features, h, b, \"features/cap.\"+name+\".npy\")\n",
    "\n",
    "    X_lsi = gen_or_load_feats(latent_semantic_indexing, h, b, \"features/lsi.\"+name+\".npy\")\n",
    "    \n",
    "    headVec, bodyVec, simVec = gen_word2vec_feats(h,b)\n",
    "    X = np.c_[X_hand, X_polarity, X_refuting, X_overlap, X_supporting, X_punctuation, X_question, X_cap, X_lsi, headVec, bodyVec, simVec]\n",
    "    #X = np.c_[X_hand, X_polarity, X_refuting, X_overlap, X_supporting, X_punctuation, X_question, X_cap, X_lsi]\n",
    "\n",
    "    return X,y\n"
   ]
  },
  {
   "cell_type": "code",
   "execution_count": 3,
   "metadata": {},
   "outputs": [],
   "source": [
    "check_version()"
   ]
  },
  {
   "cell_type": "code",
   "execution_count": 4,
   "metadata": {},
   "outputs": [
    {
     "name": "stdout",
     "output_type": "stream",
     "text": [
      "Reading dataset\n",
      "Total stances: 49972\n",
      "Total bodies: 1683\n",
      "Reading dataset\n",
      "Total stances: 25413\n",
      "Total bodies: 904\n",
      "generating word2vec features\n",
      "model loaded\n"
     ]
    }
   ],
   "source": [
    "#Load the training dataset and generate folds\n",
    "d = DataSet()\n",
    "folds,hold_out= kfold_split(d,n_folds=10)\n",
    "fold_stances, hold_out_stances = get_stances_for_folds(d,folds,hold_out)\n",
    "\n",
    "# Load the competition dataset\n",
    "competition_dataset = DataSet(\"competition_test\")\n",
    "X_competition, y_competition = generate_features(competition_dataset.stances, competition_dataset, \"competition\")\n",
    "\n"
   ]
  },
  {
   "cell_type": "code",
   "execution_count": 5,
   "metadata": {},
   "outputs": [
    {
     "name": "stdout",
     "output_type": "stream",
     "text": [
      "generating word2vec features\n",
      "model loaded\n",
      "generating word2vec features\n",
      "model loaded\n",
      "generating word2vec features\n",
      "model loaded\n",
      "generating word2vec features\n",
      "model loaded\n",
      "generating word2vec features\n",
      "model loaded\n",
      "generating word2vec features\n",
      "model loaded\n",
      "generating word2vec features\n",
      "model loaded\n",
      "generating word2vec features\n",
      "model loaded\n",
      "generating word2vec features\n",
      "model loaded\n",
      "generating word2vec features\n",
      "model loaded\n",
      "generating word2vec features\n",
      "model loaded\n"
     ]
    }
   ],
   "source": [
    "Xs = dict()\n",
    "ys = dict()\n",
    "\n",
    "# Load/Precompute all features now\n",
    "X_holdout,y_holdout = generate_features(hold_out_stances,d,\"holdout\")\n",
    "for fold in fold_stances:\n",
    "    Xs[fold],ys[fold] = generate_features(fold_stances[fold],d,str(fold))\n"
   ]
  },
  {
   "cell_type": "markdown",
   "metadata": {},
   "source": [
    "# Building Individual Models"
   ]
  },
  {
   "cell_type": "code",
   "execution_count": 6,
   "metadata": {},
   "outputs": [],
   "source": [
    "from sklearn.metrics import accuracy_score, precision_score, recall_score"
   ]
  },
  {
   "cell_type": "code",
   "execution_count": 20,
   "metadata": {},
   "outputs": [],
   "source": [
    "def apply_cv(model, parameters, fold_num):\n",
    "\n",
    "    ids = list(range(len(folds)))\n",
    "    del ids[fold_num]\n",
    "\n",
    "    X_train = np.vstack(tuple([Xs[i] for i in ids]))\n",
    "    y_train = np.hstack(tuple([ys[i] for i in ids]))\n",
    "\n",
    "    X_test = Xs[fold_num]\n",
    "    y_test = ys[fold_num]\n",
    "\n",
    "    scoring = {'acc':'accuracy'}\n",
    "    clf = GridSearchCV(model, parameters, cv=5, scoring=scoring, refit='acc')\n",
    "    clf.fit(X_train, y_train)\n",
    "    \n",
    "    return clf"
   ]
  },
  {
   "cell_type": "markdown",
   "metadata": {},
   "source": [
    "## Ridge Classifier"
   ]
  },
  {
   "cell_type": "code",
   "execution_count": 47,
   "metadata": {},
   "outputs": [
    {
     "name": "stdout",
     "output_type": "stream",
     "text": [
      "best parameters: {'alpha': 1, 'random_state': 42}\n",
      "best score: 0.897301538375\n"
     ]
    }
   ],
   "source": [
    "from sklearn.linear_model import RidgeClassifier\n",
    "from sklearn.model_selection import GridSearchCV\n",
    "\n",
    "param = {'alpha':[.1, 1, 10, 100], 'random_state':[42]}\n",
    "\n",
    "m = RidgeClassifier()\n",
    "r_results = apply_cv(m, param, 0)\n",
    "print('best parameters: ' + str(r_results.best_params_))\n",
    "print('best score: '+str(r_results.best_score_))"
   ]
  },
  {
   "cell_type": "markdown",
   "metadata": {},
   "source": [
    "## K-Means"
   ]
  },
  {
   "cell_type": "code",
   "execution_count": 48,
   "metadata": {},
   "outputs": [
    {
     "name": "stdout",
     "output_type": "stream",
     "text": [
      "best parameters: {'n_clusters': 4, 'random_state': 42}\n",
      "best score: 0.244402723681\n"
     ]
    }
   ],
   "source": [
    "from sklearn.cluster import KMeans\n",
    "\n",
    "param = {'n_clusters':[4, 5, 6, 7, 8], 'random_state':[42]}\n",
    "\n",
    "m = KMeans()\n",
    "k_results = apply_cv(m, param, 0)\n",
    "print('best parameters: ' + str(k_results.best_params_))\n",
    "print('best score: '+str(k_results.best_score_))"
   ]
  },
  {
   "cell_type": "code",
   "execution_count": 51,
   "metadata": {},
   "outputs": [
    {
     "name": "stdout",
     "output_type": "stream",
     "text": [
      "best parameters: {'n_clusters': 3, 'random_state': 42}\n",
      "best score: 0.0853812312607\n"
     ]
    }
   ],
   "source": [
    "from sklearn.cluster import KMeans\n",
    "\n",
    "param = {'n_clusters':[1, 2, 3], 'random_state':[42]}\n",
    "\n",
    "m = KMeans()\n",
    "k_2_results = apply_cv(m, param, 0)\n",
    "print('best parameters: ' + str(k_2_results.best_params_))\n",
    "print('best score: '+str(k_2_results.best_score_))"
   ]
  },
  {
   "cell_type": "markdown",
   "metadata": {},
   "source": [
    "## Decision Trees"
   ]
  },
  {
   "cell_type": "markdown",
   "metadata": {},
   "source": [
    "### DecisionTreeClassifier"
   ]
  },
  {
   "cell_type": "code",
   "execution_count": 50,
   "metadata": {},
   "outputs": [
    {
     "name": "stdout",
     "output_type": "stream",
     "text": [
      "best parameters: {'criterion': 'gini', 'max_depth': 5, 'random_state': 42}\n",
      "best score: 0.864096169473\n"
     ]
    }
   ],
   "source": [
    "from sklearn.tree import DecisionTreeClassifier\n",
    "\n",
    "param = {'criterion':('gini', 'entropy'), 'max_depth':[5, 10, 20, None], 'random_state':[42]}\n",
    "\n",
    "m = DecisionTreeClassifier()\n",
    "d_results = apply_cv(m, param, 0)\n",
    "print('best parameters: ' + str(d_results.best_params_))\n",
    "print('best score: '+str(d_results.best_score_))"
   ]
  },
  {
   "cell_type": "markdown",
   "metadata": {},
   "source": [
    "### XGBoost"
   ]
  },
  {
   "cell_type": "code",
   "execution_count": 11,
   "metadata": {},
   "outputs": [
    {
     "name": "stdout",
     "output_type": "stream",
     "text": [
      "best parameters: {'max_depth': 5, 'n_estimators': 200, 'seed': 42}\n",
      "best score: 0.92193235632\n"
     ]
    }
   ],
   "source": [
    "from xgboost import XGBClassifier \n",
    "\n",
    "param = {'n_estimators':[10, 50, 100, 200], 'max_depth': [2, 3, 5], 'seed':[42]}\n",
    "\n",
    "m = XGBClassifier()\n",
    "x_results = apply_cv(m, param, 0)\n",
    "print('best parameters: ' + str(x_results.best_params_))\n",
    "print('best score: '+str(x_results.best_score_))"
   ]
  },
  {
   "cell_type": "markdown",
   "metadata": {},
   "source": [
    "## Multi-layer Perceptron"
   ]
  },
  {
   "cell_type": "code",
   "execution_count": 27,
   "metadata": {},
   "outputs": [
    {
     "name": "stdout",
     "output_type": "stream",
     "text": [
      "best parameters: {'activation': 'logistic', 'random_state': 42}\n",
      "best score: 0.918990108443\n"
     ]
    }
   ],
   "source": [
    "from sklearn.neural_network import MLPClassifier \n",
    "\n",
    "param = {'activation':('relu', 'tanh', 'logistic'), 'random_state':[42]}\n",
    "\n",
    "m = MLPClassifier()\n",
    "m_results = apply_cv(m, param, 0)\n",
    "print('best parameters: ' + str(m_results.best_params_))\n",
    "print('best score: '+str(m_results.best_score_))"
   ]
  },
  {
   "cell_type": "markdown",
   "metadata": {},
   "source": [
    "# Comparing tuned models"
   ]
  },
  {
   "cell_type": "code",
   "execution_count": 13,
   "metadata": {},
   "outputs": [],
   "source": [
    "def model_score(model):\n",
    "    res = []\n",
    "    best_score = 0\n",
    "    best_fold = None\n",
    "\n",
    "    # Classifier for each fold\n",
    "    for fold in [0, 1, 2]:\n",
    "        ids = list(range(len(folds)))\n",
    "        del ids[fold]\n",
    "\n",
    "        X_train = np.vstack(tuple([Xs[i] for i in ids]))\n",
    "        y_train = np.hstack(tuple([ys[i] for i in ids]))\n",
    "\n",
    "        X_test = Xs[fold]\n",
    "        y_test = ys[fold]\n",
    "\n",
    "        clf = model\n",
    "        clf.fit(X_train, y_train)\n",
    "\n",
    "        predicted = [LABELS[int(a)] for a in clf.predict(X_test)]\n",
    "        actual = [LABELS[int(a)] for a in y_test]\n",
    "\n",
    "        fold_score, _ = score_submission(actual, predicted)\n",
    "        max_fold_score, _ = score_submission(actual, actual)\n",
    "\n",
    "        score = fold_score/max_fold_score\n",
    "\n",
    "        print(\"Score for fold \"+ str(fold) + \" was - \" + str(score))\n",
    "        if score > best_score:\n",
    "            best_score = score\n",
    "            best_fold = clf\n",
    "\n",
    "    res.append(best_fold)\n",
    "            \n",
    "    #Run on Holdout set and report the final score on the holdout set\n",
    "    predicted = [LABELS[int(a)] for a in best_fold.predict(X_holdout)]\n",
    "    actual = [LABELS[int(a)] for a in y_holdout]\n",
    "    \n",
    "    res.append(accuracy_score(actual, predicted))\n",
    "    res.append(precision_score(actual, predicted, average='macro'))\n",
    "    res.append(recall_score(actual,predicted, average='macro'))\n",
    "    \n",
    "    #Run on competition dataset\n",
    "    predicted = [LABELS[int(a)] for a in best_fold.predict(X_competition)]\n",
    "    actual = [LABELS[int(a)] for a in y_competition]\n",
    "    \n",
    "    res.append(accuracy_score(actual, predicted))\n",
    "    res.append(precision_score(actual, predicted, average='macro'))\n",
    "    res.append(recall_score(actual,predicted, average='macro'))\n",
    "\n",
    "    print('done!')\n",
    "    return res"
   ]
  },
  {
   "cell_type": "code",
   "execution_count": 8,
   "metadata": {},
   "outputs": [
    {
     "name": "stdout",
     "output_type": "stream",
     "text": [
      "Score for fold 6 was - 0.8030738293593795\n",
      "Score for fold 0 was - 0.845305221868105\n",
      "Score for fold 7 was - 0.8277471361900721\n",
      "Score for fold 5 was - 0.791899852724595\n",
      "Score for fold 2 was - 0.8418144809537657\n",
      "Score for fold 8 was - 0.8373333333333334\n",
      "Score for fold 9 was - 0.8124476695506558\n",
      "Score for fold 3 was - 0.834975037107003\n",
      "Score for fold 1 was - 0.83056292778321\n",
      "Score for fold 4 was - 0.8298755186721992\n"
     ]
    },
    {
     "name": "stderr",
     "output_type": "stream",
     "text": [
      "/home/ubuntu/anaconda3/envs/python3/lib/python3.6/site-packages/sklearn/metrics/classification.py:1135: UndefinedMetricWarning: Precision is ill-defined and being set to 0.0 in labels with no predicted samples.\n",
      "  'precision', 'predicted', average, warn_for)\n"
     ]
    },
    {
     "name": "stdout",
     "output_type": "stream",
     "text": [
      "done!\n",
      "Score for fold 6 was - 0.2997701809824763\n",
      "Score for fold 0 was - 0.2712674675165482\n",
      "Score for fold 7 was - 0.24423702446612927\n",
      "Score for fold 5 was - 0.2948453608247423\n",
      "Score for fold 2 was - 0.3498109915673161\n",
      "Score for fold 8 was - 0.2673015873015873\n",
      "Score for fold 9 was - 0.3371476416410829\n",
      "Score for fold 3 was - 0.35258399676157065\n",
      "Score for fold 1 was - 0.2660986171252968\n",
      "Score for fold 4 was - 0.29431964515667475\n",
      "done!\n"
     ]
    }
   ],
   "source": [
    "ridge_c = model_score(RidgeClassifier(alpha=1, random_state=42))\n",
    "kmeans_c = model_score(KMeans(n_clusters=4, random_state=42))"
   ]
  },
  {
   "cell_type": "code",
   "execution_count": 14,
   "metadata": {},
   "outputs": [
    {
     "name": "stdout",
     "output_type": "stream",
     "text": [
      "Score for fold 0 was - 0.8746016180436381\n",
      "Score for fold 1 was - 0.8807095963123341\n",
      "Score for fold 2 was - 0.8694387903460308\n",
      "done!\n"
     ]
    }
   ],
   "source": [
    "xgb_c = model_score(XGBClassifier(max_depth=5, n_estimators=200, seed=42))"
   ]
  },
  {
   "cell_type": "code",
   "execution_count": 15,
   "metadata": {},
   "outputs": [
    {
     "name": "stdout",
     "output_type": "stream",
     "text": [
      "Score for fold 0 was - 0.8704339298847756\n",
      "Score for fold 1 was - 0.8699539041765609\n",
      "Score for fold 2 was - 0.8793253852864205\n",
      "done!\n"
     ]
    }
   ],
   "source": [
    "mlp_c = model_score(MLPClassifier(activation='logistic', random_state=42))"
   ]
  },
  {
   "cell_type": "code",
   "execution_count": 34,
   "metadata": {},
   "outputs": [
    {
     "data": {
      "text/plain": [
       "[RidgeClassifier(alpha=1, class_weight=None, copy_X=True, fit_intercept=True,\n",
       "         max_iter=None, normalize=False, random_state=42, solver='auto',\n",
       "         tol=0.001),\n",
       " 0.88702972355019749,\n",
       " 0.57920530134908732,\n",
       " 0.53577582462057427,\n",
       " 0.86640695706921655,\n",
       " 0.53703241288873871,\n",
       " 0.51489075956426922]"
      ]
     },
     "execution_count": 34,
     "metadata": {},
     "output_type": "execute_result"
    }
   ],
   "source": [
    "ridge_c"
   ]
  },
  {
   "cell_type": "code",
   "execution_count": 19,
   "metadata": {},
   "outputs": [
    {
     "data": {
      "image/png": "[encoded data removed]",
      "text/plain": [
       "<matplotlib.figure.Figure at 0x7f67008344e0>"
      ]
     },
     "metadata": {},
     "output_type": "display_data"
    }
   ],
   "source": [
    "X_acc = ['ridge', 'kmeans', 'xgb','mlp']\n",
    "Y_acc = [ridge_c[3], kmeans_c[3], xgb_c[3], mlp_c[3]]\n",
    "\n",
    "plt.bar(X_acc, Y_acc)\n",
    "plt.xlabel('model')\n",
    "plt.ylabel('accuracy')\n",
    "plt.title('accuracy scores')\n",
    "plt.show()"
   ]
  },
  {
   "cell_type": "code",
   "execution_count": null,
   "metadata": {},
   "outputs": [],
   "source": [
    "X_acc = ['ridge', 'kmeans', 'xgb','mlp']\n",
    "Y_acc = [ridge_c[3], kmeans_c[3], xgb_c[3], mlp_c[3]]\n",
    "\n",
    "plt.bar(X_acc, Y_acc)\n",
    "plt.xlabel('model')\n",
    "plt.ylabel('accuracy')\n",
    "plt.title('accuracy scores')\n",
    "plt.show()"
   ]
  },
  {
   "cell_type": "markdown",
   "metadata": {},
   "source": [
    "## References\n",
    "1. https://machinelearningmastery.com/develop-first-xgboost-model-python-scikit-learn/"
   ]
  }
 ],
 "metadata": {
  "kernelspec": {
   "display_name": "Environment (conda_python3)",
   "language": "python",
   "name": "conda_python3"
  },
  "language_info": {
   "codemirror_mode": {
    "name": "ipython",
    "version": 3
   },
   "file_extension": ".py",
   "mimetype": "text/x-python",
   "name": "python",
   "nbconvert_exporter": "python",
   "pygments_lexer": "ipython3",
   "version": "3.6.3"
  }
 },
 "nbformat": 4,
 "nbformat_minor": 2
}
