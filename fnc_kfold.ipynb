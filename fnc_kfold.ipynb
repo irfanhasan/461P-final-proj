{
 "cells": [
  {
   "cell_type": "code",
   "execution_count": 71,
   "metadata": {},
   "outputs": [],
   "source": [
    "import sys\n",
    "import numpy as np\n",
    "import pandas as pd\n",
    "\n",
    "from sklearn.ensemble import GradientBoostingClassifier\n",
    "from feature_engineering import refuting_features, polarity_features, hand_features, gen_or_load_feats, gen_word2vec_feats\n",
    "from feature_engineering import word_overlap_features\n",
    "from feature_engineering import supporting_features, punctuation_features, question_features, cap_features\n",
    "from feature_engineering import latent_semantic_indexing\n",
    "from utils.dataset import DataSet\n",
    "from utils.generate_test_splits import kfold_split, get_stances_for_folds\n",
    "from utils.score import report_score, LABELS, score_submission\n",
    "from sklearn.cluster import KMeans\n",
    "from sklearn.tree import DecisionTreeClassifier\n",
    "from xgboost import XGBClassifier \n",
    "from sklearn.neural_network import MLPClassifier \n",
    " \n",
    "from utils.system import parse_params, check_version\n",
    "from sklearn.model_selection import GridSearchCV\n",
    "from sklearn.linear_model import RidgeClassifier\n",
    "\n",
    "import matplotlib.pyplot as plt\n",
    "import numpy as np"
   ]
  },
  {
   "cell_type": "code",
   "execution_count": 2,
   "metadata": {},
   "outputs": [],
   "source": [
    "def generate_features(stances,dataset,name):\n",
    "    h, b, y = [],[],[]\n",
    "\n",
    "    for stance in stances:\n",
    "        y.append(LABELS.index(stance['Stance']))\n",
    "        h.append(stance['Headline'])\n",
    "        b.append(dataset.articles[stance['Body ID']])\n",
    "\n",
    "    X_overlap = gen_or_load_feats(word_overlap_features, h, b, \"features/overlap.\"+name+\".npy\")\n",
    "    X_refuting = gen_or_load_feats(refuting_features, h, b, \"features/refuting.\"+name+\".npy\")\n",
    "    X_polarity = gen_or_load_feats(polarity_features, h, b, \"features/polarity.\"+name+\".npy\")\n",
    "    X_hand = gen_or_load_feats(hand_features, h, b, \"features/hand.\"+name+\".npy\")\n",
    "    \n",
    "    X_supporting = gen_or_load_feats(supporting_features, h, b, \"features/supporting.\"+name+\".npy\")\n",
    "    X_punctuation = gen_or_load_feats(punctuation_features, h, b, \"features/punctuation.\"+name+\".npy\")\n",
    "    X_question = gen_or_load_feats(question_features, h, b, \"features/question.\"+name+\".npy\")\n",
    "    X_cap = gen_or_load_feats(cap_features, h, b, \"features/cap.\"+name+\".npy\")\n",
    "\n",
    "    X_lsi = gen_or_load_feats(latent_semantic_indexing, h, b, \"features/lsi.\"+name+\".npy\")\n",
    "    \n",
    "    headVec, bodyVec, simVec = gen_word2vec_feats(h,b)\n",
    "    X = np.c_[X_hand, X_polarity, X_refuting, X_overlap, X_supporting, X_punctuation, X_question, X_cap, X_lsi, headVec, bodyVec, simVec]\n",
    "    #X = np.c_[X_hand, X_polarity, X_refuting, X_overlap, X_supporting, X_punctuation, X_question, X_cap, X_lsi]\n",
    "\n",
    "    return X,y\n"
   ]
  },
  {
   "cell_type": "code",
   "execution_count": 3,
   "metadata": {},
   "outputs": [],
   "source": [
    "check_version()"
   ]
  },
  {
   "cell_type": "code",
   "execution_count": 4,
   "metadata": {},
   "outputs": [
    {
     "name": "stdout",
     "output_type": "stream",
     "text": [
      "Reading dataset\n",
      "Total stances: 49972\n",
      "Total bodies: 1683\n",
      "Reading dataset\n",
      "Total stances: 25413\n",
      "Total bodies: 904\n",
      "generating word2vec features\n",
      "model loaded\n"
     ]
    }
   ],
   "source": [
    "#Load the training dataset and generate folds\n",
    "d = DataSet()\n",
    "folds,hold_out= kfold_split(d,n_folds=10)\n",
    "fold_stances, hold_out_stances = get_stances_for_folds(d,folds,hold_out)\n",
    "\n",
    "# Load the competition dataset\n",
    "competition_dataset = DataSet(\"competition_test\")\n",
    "X_competition, y_competition = generate_features(competition_dataset.stances, competition_dataset, \"competition\")\n",
    "\n"
   ]
  },
  {
   "cell_type": "code",
   "execution_count": 5,
   "metadata": {},
   "outputs": [
    {
     "name": "stdout",
     "output_type": "stream",
     "text": [
      "generating word2vec features\n",
      "model loaded\n",
      "generating word2vec features\n",
      "model loaded\n",
      "generating word2vec features\n",
      "model loaded\n",
      "generating word2vec features\n",
      "model loaded\n",
      "generating word2vec features\n",
      "model loaded\n",
      "generating word2vec features\n",
      "model loaded\n",
      "generating word2vec features\n",
      "model loaded\n",
      "generating word2vec features\n",
      "model loaded\n",
      "generating word2vec features\n",
      "model loaded\n",
      "generating word2vec features\n",
      "model loaded\n",
      "generating word2vec features\n",
      "model loaded\n"
     ]
    }
   ],
   "source": [
    "Xs = dict()\n",
    "ys = dict()\n",
    "\n",
    "# Load/Precompute all features now\n",
    "X_holdout,y_holdout = generate_features(hold_out_stances,d,\"holdout\")\n",
    "for fold in fold_stances:\n",
    "    Xs[fold],ys[fold] = generate_features(fold_stances[fold],d,str(fold))\n"
   ]
  },
  {
   "cell_type": "markdown",
   "metadata": {},
   "source": [
    "# Building Individual Models"
   ]
  },
  {
   "cell_type": "code",
   "execution_count": 6,
   "metadata": {},
   "outputs": [],
   "source": [
    "from sklearn.metrics import accuracy_score, precision_score, recall_score"
   ]
  },
  {
   "cell_type": "code",
   "execution_count": 20,
   "metadata": {},
   "outputs": [],
   "source": [
    "def apply_cv(model, parameters, fold_num):\n",
    "\n",
    "    ids = list(range(len(folds)))\n",
    "    del ids[fold_num]\n",
    "\n",
    "    X_train = np.vstack(tuple([Xs[i] for i in ids]))\n",
    "    y_train = np.hstack(tuple([ys[i] for i in ids]))\n",
    "\n",
    "    X_test = Xs[fold_num]\n",
    "    y_test = ys[fold_num]\n",
    "\n",
    "    scoring = {'acc':'accuracy'}\n",
    "    clf = GridSearchCV(model, parameters, cv=5, scoring=scoring, refit='acc')\n",
    "    clf.fit(X_train, y_train)\n",
    "    \n",
    "    return clf"
   ]
  },
  {
   "cell_type": "markdown",
   "metadata": {},
   "source": [
    "## Ridge Classifier"
   ]
  },
  {
   "cell_type": "code",
   "execution_count": 47,
   "metadata": {},
   "outputs": [
    {
     "name": "stdout",
     "output_type": "stream",
     "text": [
      "best parameters: {'alpha': 1, 'random_state': 42}\n",
      "best score: 0.897301538375\n"
     ]
    }
   ],
   "source": [
    "from sklearn.linear_model import RidgeClassifier\n",
    "from sklearn.model_selection import GridSearchCV\n",
    "\n",
    "param = {'alpha':[.1, 1, 10, 100], 'random_state':[42]}\n",
    "\n",
    "m = RidgeClassifier()\n",
    "r_results = apply_cv(m, param, 0)\n",
    "print('best parameters: ' + str(r_results.best_params_))\n",
    "print('best score: '+str(r_results.best_score_))"
   ]
  },
  {
   "cell_type": "markdown",
   "metadata": {},
   "source": [
    "## K-Means"
   ]
  },
  {
   "cell_type": "code",
   "execution_count": 48,
   "metadata": {},
   "outputs": [
    {
     "name": "stdout",
     "output_type": "stream",
     "text": [
      "best parameters: {'n_clusters': 4, 'random_state': 42}\n",
      "best score: 0.244402723681\n"
     ]
    }
   ],
   "source": [
    "from sklearn.cluster import KMeans\n",
    "\n",
    "param = {'n_clusters':[4, 5, 6, 7, 8], 'random_state':[42]}\n",
    "\n",
    "m = KMeans()\n",
    "k_results = apply_cv(m, param, 0)\n",
    "print('best parameters: ' + str(k_results.best_params_))\n",
    "print('best score: '+str(k_results.best_score_))"
   ]
  },
  {
   "cell_type": "code",
   "execution_count": 51,
   "metadata": {},
   "outputs": [
    {
     "name": "stdout",
     "output_type": "stream",
     "text": [
      "best parameters: {'n_clusters': 3, 'random_state': 42}\n",
      "best score: 0.0853812312607\n"
     ]
    }
   ],
   "source": [
    "from sklearn.cluster import KMeans\n",
    "\n",
    "param = {'n_clusters':[1, 2, 3], 'random_state':[42]}\n",
    "\n",
    "m = KMeans()\n",
    "k_2_results = apply_cv(m, param, 0)\n",
    "print('best parameters: ' + str(k_2_results.best_params_))\n",
    "print('best score: '+str(k_2_results.best_score_))"
   ]
  },
  {
   "cell_type": "markdown",
   "metadata": {},
   "source": [
    "## Decision Trees"
   ]
  },
  {
   "cell_type": "markdown",
   "metadata": {},
   "source": [
    "### DecisionTreeClassifier"
   ]
  },
  {
   "cell_type": "code",
   "execution_count": 50,
   "metadata": {},
   "outputs": [
    {
     "name": "stdout",
     "output_type": "stream",
     "text": [
      "best parameters: {'criterion': 'gini', 'max_depth': 5, 'random_state': 42}\n",
      "best score: 0.864096169473\n"
     ]
    }
   ],
   "source": [
    "from sklearn.tree import DecisionTreeClassifier\n",
    "\n",
    "param = {'criterion':('gini', 'entropy'), 'max_depth':[5, 10, 20, None], 'random_state':[42]}\n",
    "\n",
    "m = DecisionTreeClassifier()\n",
    "d_results = apply_cv(m, param, 0)\n",
    "print('best parameters: ' + str(d_results.best_params_))\n",
    "print('best score: '+str(d_results.best_score_))"
   ]
  },
  {
   "cell_type": "markdown",
   "metadata": {},
   "source": [
    "### XGBoost"
   ]
  },
  {
   "cell_type": "code",
   "execution_count": 11,
   "metadata": {},
   "outputs": [
    {
     "name": "stdout",
     "output_type": "stream",
     "text": [
      "best parameters: {'max_depth': 5, 'n_estimators': 200, 'seed': 42}\n",
      "best score: 0.92193235632\n"
     ]
    }
   ],
   "source": [
    "from xgboost import XGBClassifier \n",
    "\n",
    "param = {'n_estimators':[10, 50, 100, 200], 'max_depth': [2, 3, 5], 'seed':[42]}\n",
    "\n",
    "m = XGBClassifier()\n",
    "x_results = apply_cv(m, param, 0)\n",
    "print('best parameters: ' + str(x_results.best_params_))\n",
    "print('best score: '+str(x_results.best_score_))"
   ]
  },
  {
   "cell_type": "markdown",
   "metadata": {},
   "source": [
    "## Multi-layer Perceptron"
   ]
  },
  {
   "cell_type": "code",
   "execution_count": 27,
   "metadata": {},
   "outputs": [
    {
     "name": "stdout",
     "output_type": "stream",
     "text": [
      "best parameters: {'activation': 'logistic', 'random_state': 42}\n",
      "best score: 0.918990108443\n"
     ]
    }
   ],
   "source": [
    "from sklearn.neural_network import MLPClassifier \n",
    "\n",
    "param = {'activation':('relu', 'tanh', 'logistic'), 'random_state':[42]}\n",
    "\n",
    "m = MLPClassifier()\n",
    "m_results = apply_cv(m, param, 0)\n",
    "print('best parameters: ' + str(m_results.best_params_))\n",
    "print('best score: '+str(m_results.best_score_))"
   ]
  },
  {
   "cell_type": "markdown",
   "metadata": {},
   "source": [
    "# Comparing tuned models"
   ]
  },
  {
   "cell_type": "code",
   "execution_count": 13,
   "metadata": {},
   "outputs": [],
   "source": [
    "def model_score(model):\n",
    "    res = []\n",
    "    best_score = 0\n",
    "    best_fold = None\n",
    "\n",
    "    # Classifier for each fold\n",
    "    for fold in [0, 1, 2]:\n",
    "        ids = list(range(len(folds)))\n",
    "        del ids[fold]\n",
    "\n",
    "        X_train = np.vstack(tuple([Xs[i] for i in ids]))\n",
    "        y_train = np.hstack(tuple([ys[i] for i in ids]))\n",
    "\n",
    "        X_test = Xs[fold]\n",
    "        y_test = ys[fold]\n",
    "\n",
    "        clf = model\n",
    "        clf.fit(X_train, y_train)\n",
    "\n",
    "        predicted = [LABELS[int(a)] for a in clf.predict(X_test)]\n",
    "        actual = [LABELS[int(a)] for a in y_test]\n",
    "\n",
    "        fold_score, _ = score_submission(actual, predicted)\n",
    "        max_fold_score, _ = score_submission(actual, actual)\n",
    "\n",
    "        score = fold_score/max_fold_score\n",
    "\n",
    "        print(\"Score for fold \"+ str(fold) + \" was - \" + str(score))\n",
    "        if score > best_score:\n",
    "            best_score = score\n",
    "            best_fold = clf\n",
    "\n",
    "    res.append(best_fold)\n",
    "            \n",
    "    #Run on Holdout set and report the final score on the holdout set\n",
    "    predicted = [LABELS[int(a)] for a in best_fold.predict(X_holdout)]\n",
    "    actual = [LABELS[int(a)] for a in y_holdout]\n",
    "    \n",
    "    res.append(accuracy_score(actual, predicted))\n",
    "    res.append(precision_score(actual, predicted, average='macro'))\n",
    "    res.append(recall_score(actual,predicted, average='macro'))\n",
    "    \n",
    "    #Run on competition dataset\n",
    "    predicted = [LABELS[int(a)] for a in best_fold.predict(X_competition)]\n",
    "    actual = [LABELS[int(a)] for a in y_competition]\n",
    "    \n",
    "    res.append(accuracy_score(actual, predicted))\n",
    "    res.append(precision_score(actual, predicted, average='macro'))\n",
    "    res.append(recall_score(actual,predicted, average='macro'))\n",
    "\n",
    "    print('done!')\n",
    "    return res"
   ]
  },
  {
   "cell_type": "code",
   "execution_count": 8,
   "metadata": {},
   "outputs": [
    {
     "name": "stdout",
     "output_type": "stream",
     "text": [
      "Score for fold 6 was - 0.8030738293593795\n",
      "Score for fold 0 was - 0.845305221868105\n",
      "Score for fold 7 was - 0.8277471361900721\n",
      "Score for fold 5 was - 0.791899852724595\n",
      "Score for fold 2 was - 0.8418144809537657\n",
      "Score for fold 8 was - 0.8373333333333334\n",
      "Score for fold 9 was - 0.8124476695506558\n",
      "Score for fold 3 was - 0.834975037107003\n",
      "Score for fold 1 was - 0.83056292778321\n",
      "Score for fold 4 was - 0.8298755186721992\n"
     ]
    },
    {
     "name": "stderr",
     "output_type": "stream",
     "text": [
      "/home/ubuntu/anaconda3/envs/python3/lib/python3.6/site-packages/sklearn/metrics/classification.py:1135: UndefinedMetricWarning: Precision is ill-defined and being set to 0.0 in labels with no predicted samples.\n",
      "  'precision', 'predicted', average, warn_for)\n"
     ]
    },
    {
     "name": "stdout",
     "output_type": "stream",
     "text": [
      "done!\n",
      "Score for fold 6 was - 0.2997701809824763\n",
      "Score for fold 0 was - 0.2712674675165482\n",
      "Score for fold 7 was - 0.24423702446612927\n",
      "Score for fold 5 was - 0.2948453608247423\n",
      "Score for fold 2 was - 0.3498109915673161\n",
      "Score for fold 8 was - 0.2673015873015873\n",
      "Score for fold 9 was - 0.3371476416410829\n",
      "Score for fold 3 was - 0.35258399676157065\n",
      "Score for fold 1 was - 0.2660986171252968\n",
      "Score for fold 4 was - 0.29431964515667475\n",
      "done!\n"
     ]
    }
   ],
   "source": [
    "ridge_c = model_score(RidgeClassifier(alpha=1, random_state=42))\n",
    "kmeans_c = model_score(KMeans(n_clusters=4, random_state=42))"
   ]
  },
  {
   "cell_type": "code",
   "execution_count": 14,
   "metadata": {},
   "outputs": [
    {
     "name": "stdout",
     "output_type": "stream",
     "text": [
      "Score for fold 0 was - 0.8746016180436381\n",
      "Score for fold 1 was - 0.8807095963123341\n",
      "Score for fold 2 was - 0.8694387903460308\n",
      "done!\n"
     ]
    }
   ],
   "source": [
    "xgb_c = model_score(XGBClassifier(max_depth=5, n_estimators=200, seed=42))"
   ]
  },
  {
   "cell_type": "code",
   "execution_count": 15,
   "metadata": {},
   "outputs": [
    {
     "name": "stdout",
     "output_type": "stream",
     "text": [
      "Score for fold 0 was - 0.8704339298847756\n",
      "Score for fold 1 was - 0.8699539041765609\n",
      "Score for fold 2 was - 0.8793253852864205\n",
      "done!\n"
     ]
    }
   ],
   "source": [
    "mlp_c = model_score(MLPClassifier(activation='logistic', random_state=42))"
   ]
  },
  {
   "cell_type": "code",
   "execution_count": 39,
   "metadata": {},
   "outputs": [
    {
     "name": "stdout",
     "output_type": "stream",
     "text": [
      "[RidgeClassifier(alpha=1, class_weight=None, copy_X=True, fit_intercept=True,\n",
      "        max_iter=None, normalize=False, random_state=42, solver='auto',\n",
      "        tol=0.001), 0.88702972355019749, 0.57920530134908732, 0.53577582462057427, 0.86640695706921655, 0.53703241288873871, 0.51489075956426922]\n",
      "\n",
      "[XGBClassifier(base_score=0.5, colsample_bylevel=1, colsample_bytree=1,\n",
      "       gamma=0, learning_rate=0.1, max_delta_step=0, max_depth=5,\n",
      "       min_child_weight=1, missing=None, n_estimators=200, nthread=-1,\n",
      "       objective='multi:softprob', reg_alpha=0, reg_lambda=1,\n",
      "       scale_pos_weight=1, seed=42, silent=True, subsample=1), 0.92673040947827889, 0.7816743666813174, 0.6859038047863939, 0.87754298980836576, 0.71934526934322218, 0.5611956485728985]\n",
      "\n",
      "[MLPClassifier(activation='logistic', alpha=0.0001, batch_size='auto',\n",
      "       beta_1=0.9, beta_2=0.999, early_stopping=False, epsilon=1e-08,\n",
      "       hidden_layer_sizes=(100,), learning_rate='constant',\n",
      "       learning_rate_init=0.001, max_iter=200, momentum=0.9,\n",
      "       nesterovs_momentum=True, power_t=0.5, random_state=42, shuffle=True,\n",
      "       solver='adam', tol=0.0001, validation_fraction=0.1, verbose=False,\n",
      "       warm_start=False), 0.90573685304510498, 0.73011308480149983, 0.71589580912417849, 0.87368669578562153, 0.61686336812759301, 0.57274081473486382]\n",
      "\n",
      "[KMeans(algorithm='auto', copy_x=True, init='k-means++', max_iter=300,\n",
      "    n_clusters=4, n_init=10, n_jobs=1, precompute_distances='auto',\n",
      "    random_state=42, tol=0.0001, verbose=0), 0.30669299521928911, 0.2620988333796308, 0.26066784664585652, 0.25534175422028094, 0.23722522346205388, 0.21429029091012111]\n",
      "\n"
     ]
    }
   ],
   "source": [
    "models = [ridge_c, xgb_c, mlp_c, kmeans_c]\n",
    "for i in models:\n",
    "    print(i)\n",
    "    print()"
   ]
  },
  {
   "cell_type": "code",
   "execution_count": 128,
   "metadata": {},
   "outputs": [
    {
     "data": {
      "image/png": "[encoded data removed]",
      "text/plain": [
       "<matplotlib.figure.Figure at 0x7f6700fef048>"
      ]
     },
     "metadata": {},
     "output_type": "display_data"
    }
   ],
   "source": [
    "fig, ax = plt.subplots()\n",
    "index = np.arange(4)\n",
    "bar_width = 0.25\n",
    "\n",
    "X_acc = ['ridge', 'xgb','mlp', 'kmeans']\n",
    "Y_acc = [ridge_c[4], xgb_c[4], mlp_c[4], kmeans_c[4],]\n",
    "rect1 = plt.bar(index, Y_acc, bar_width, label='accuracy')\n",
    "\n",
    "plt.xlabel('model')\n",
    "plt.ylabel('score')\n",
    "plt.title('accuracy scores')\n",
    "plt.xticks(index, X_acc)\n",
    "plt.legend()\n",
    "plt.tight_layout()\n",
    "plt.show()"
   ]
  },
  {
   "cell_type": "code",
   "execution_count": 129,
   "metadata": {},
   "outputs": [
    {
     "data": {
      "image/png": "[encoded data removed]",
      "text/plain": [
       "<matplotlib.figure.Figure at 0x7f670122ce48>"
      ]
     },
     "metadata": {},
     "output_type": "display_data"
    }
   ],
   "source": [
    "fig, ax = plt.subplots()\n",
    "index = np.arange(4)\n",
    "bar_width = 0.25\n",
    "\n",
    "Y_acc = [ridge_c[5], xgb_c[5], mlp_c[5],  kmeans_c[5],]\n",
    "rect1 = plt.bar(index, Y_acc, bar_width, label='precision')\n",
    "\n",
    "X_acc = ['ridge', 'xgb','mlp', 'kmeans',]\n",
    "Y_acc = [ridge_c[6], xgb_c[6], mlp_c[6], kmeans_c[6],]\n",
    "rect1 = plt.bar(index+bar_width, Y_acc, bar_width, label='recall')\n",
    "\n",
    "plt.xlabel('model')\n",
    "plt.ylabel('score')\n",
    "plt.title('precision and recall scores')\n",
    "plt.xticks(index + bar_width, X_acc)\n",
    "plt.legend()\n",
    "plt.tight_layout()\n",
    "plt.show()"
   ]
  },
  {
   "cell_type": "markdown",
   "metadata": {},
   "source": [
    "# Stacking Models"
   ]
  },
  {
   "cell_type": "code",
   "execution_count": 111,
   "metadata": {},
   "outputs": [],
   "source": [
    "X_train = np.vstack(tuple([Xs[i] for i in range(0, len(Xs))]))\n",
    "y_train = np.hstack(tuple([ys[i] for i in range(0, len(Xs))]))\n",
    "\n",
    "predictions = []\n",
    "names = ['ridge', 'xgb','mlp', 'kmeans']\n",
    "for i in range(0, 4):\n",
    "    predictions.append(models[i][0].predict(X_train))\n",
    "X_train = pd.DataFrame(X_train)\n",
    "\n",
    "X_train = X_train.assign(ridge = predictions[0])\n",
    "X_train = X_train.assign(xgb = predictions[1])\n",
    "X_train = X_train.assign(mlp = predictions[2])\n",
    "X_train = X_train.assign(kmeans = predictions[3])"
   ]
  },
  {
   "cell_type": "code",
   "execution_count": 116,
   "metadata": {},
   "outputs": [],
   "source": [
    "stacked_X_competition = pd.DataFrame(X_competition).copy()\n",
    "predictions = []\n",
    "names = ['ridge', 'xgb','mlp', 'kmeans']\n",
    "for i in range(0, 4):\n",
    "    predictions.append(models[i][0].predict(X_competition))\n",
    "    \n",
    "stacked_X_competition = stacked_X_competition.assign(ridge = predictions[0])\n",
    "stacked_X_competition = stacked_X_competition.assign(xgb = predictions[1])\n",
    "stacked_X_competition = stacked_X_competition.assign(mlp = predictions[2])\n",
    "stacked_X_competition = stacked_X_competition.assign(kmeans = predictions[3])"
   ]
  },
  {
   "cell_type": "code",
   "execution_count": 135,
   "metadata": {},
   "outputs": [
    {
     "data": {
      "text/plain": [
       "XGBClassifier(base_score=0.5, colsample_bylevel=1, colsample_bytree=1,\n",
       "       gamma=0, learning_rate=0.1, max_delta_step=0, max_depth=3,\n",
       "       min_child_weight=1, missing=None, n_estimators=100, nthread=-1,\n",
       "       objective='multi:softprob', reg_alpha=0, reg_lambda=1,\n",
       "       scale_pos_weight=1, seed=42, silent=True, subsample=1)"
      ]
     },
     "execution_count": 135,
     "metadata": {},
     "output_type": "execute_result"
    }
   ],
   "source": [
    "stacked_XGB = XGBClassifier(seed=42)\n",
    "stacked_XGB.fit(X_train, y_train)"
   ]
  },
  {
   "cell_type": "code",
   "execution_count": 136,
   "metadata": {},
   "outputs": [],
   "source": [
    "stacked_results = [None]\n",
    "\n",
    "predicted = [LABELS[int(a)] for a in stacked_XGB.predict(X_train)]\n",
    "actual = [LABELS[int(a)] for a in y_train]\n",
    "\n",
    "stacked_results.append(accuracy_score(actual, predicted))\n",
    "stacked_results.append(precision_score(actual, predicted, average='macro'))\n",
    "stacked_results.append(recall_score(actual,predicted, average='macro'))\n",
    "\n",
    "#Run on competition dataset\n",
    "predicted = [LABELS[int(a)] for a in stacked_XGB.predict(stacked_X_competition)]\n",
    "actual = [LABELS[int(a)] for a in y_competition]\n",
    "\n",
    "stacked_results.append(accuracy_score(actual, predicted))\n",
    "stacked_results.append(precision_score(actual, predicted, average='macro'))\n",
    "stacked_results.append(recall_score(actual,predicted, average='macro'))\n"
   ]
  },
  {
   "cell_type": "code",
   "execution_count": 137,
   "metadata": {},
   "outputs": [
    {
     "name": "stdout",
     "output_type": "stream",
     "text": [
      "[None, 0.99799256505576206, 0.99380296284111047, 0.99213780435371923, 0.87951048675874555, 0.6453441508251142, 0.56795347393616669]\n"
     ]
    }
   ],
   "source": [
    "print(stacked_results)"
   ]
  },
  {
   "cell_type": "code",
   "execution_count": 132,
   "metadata": {},
   "outputs": [
    {
     "name": "stdout",
     "output_type": "stream",
     "text": [
      "[None, 0.99799256505576206, 0.99380296284111047, 0.99213780435371923, 0.87951048675874555, 0.6453441508251142, 0.56795347393616669]\n"
     ]
    }
   ],
   "source": [
    "print(stacked_results)"
   ]
  },
  {
   "cell_type": "code",
   "execution_count": 133,
   "metadata": {},
   "outputs": [
    {
     "data": {
      "image/png": "[encoded data removed]",
      "text/plain": [
       "<matplotlib.figure.Figure at 0x7f67010aa470>"
      ]
     },
     "metadata": {},
     "output_type": "display_data"
    }
   ],
   "source": [
    "fig, ax = plt.subplots()\n",
    "index = np.arange(5)\n",
    "bar_width = 0.25\n",
    "\n",
    "X_acc = ['ALL_STACKED', 'ridge', 'xgb','mlp', 'kmeans']\n",
    "Y_acc = [stacked_results[4], ridge_c[4], xgb_c[4], mlp_c[4], kmeans_c[4],]\n",
    "rect1 = plt.bar(index, Y_acc, bar_width, label='accuracy')\n",
    "\n",
    "plt.xlabel('model')\n",
    "plt.ylabel('score')\n",
    "plt.title('accuracy scores')\n",
    "plt.xticks(index, X_acc)\n",
    "plt.legend()\n",
    "plt.tight_layout()\n",
    "plt.show()"
   ]
  },
  {
   "cell_type": "code",
   "execution_count": 134,
   "metadata": {},
   "outputs": [
    {
     "data": {
      "image/png": "[encoded data removed]",
      "text/plain": [
       "<matplotlib.figure.Figure at 0x7f6700f367b8>"
      ]
     },
     "metadata": {},
     "output_type": "display_data"
    }
   ],
   "source": [
    "fig, ax = plt.subplots()\n",
    "index = np.arange(5)\n",
    "bar_width = 0.25\n",
    "\n",
    "Y_acc = [stacked_results[5], ridge_c[5], xgb_c[5], mlp_c[5],  kmeans_c[5],]\n",
    "rect1 = plt.bar(index, Y_acc, bar_width, label='precision')\n",
    "\n",
    "X_acc = ['ALL_STACKED', 'ridge', 'xgb','mlp', 'kmeans',]\n",
    "Y_acc = [stacked_results[6], ridge_c[6], xgb_c[6], mlp_c[6], kmeans_c[6],]\n",
    "rect1 = plt.bar(index+bar_width, Y_acc, bar_width, label='recall')\n",
    "\n",
    "plt.xlabel('model')\n",
    "plt.ylabel('score')\n",
    "plt.title('precision and recall scores')\n",
    "plt.xticks(index + bar_width, X_acc)\n",
    "plt.legend()\n",
    "plt.tight_layout()\n",
    "plt.show()"
   ]
  },
  {
   "cell_type": "markdown",
   "metadata": {},
   "source": [
    "## References\n",
    "1. https://machinelearningmastery.com/develop-first-xgboost-model-python-scikit-learn/"
   ]
  }
 ],
 "metadata": {
  "kernelspec": {
   "display_name": "Environment (conda_python3)",
   "language": "python",
   "name": "conda_python3"
  },
  "language_info": {
   "codemirror_mode": {
    "name": "ipython",
    "version": 3
   },
   "file_extension": ".py",
   "mimetype": "text/x-python",
   "name": "python",
   "nbconvert_exporter": "python",
   "pygments_lexer": "ipython3",
   "version": "3.6.3"
  }
 },
 "nbformat": 4,
 "nbformat_minor": 2
}
